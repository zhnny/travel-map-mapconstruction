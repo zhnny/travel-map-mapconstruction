{
 "cells": [
  {
   "cell_type": "markdown",
   "id": "db9175b1-9dfe-41d2-bbd6-1712c43410ec",
   "metadata": {},
   "source": [
    "## 该代码是将下载的原始的GSON轨迹数据转换为TXT文件"
   ]
  },
  {
   "cell_type": "code",
   "execution_count": 19,
   "id": "640c5ca4-45a6-4851-bec5-7f7cdba3a566",
   "metadata": {},
   "outputs": [
    {
     "data": {
      "text/plain": [
       "1158"
      ]
     },
     "execution_count": 19,
     "metadata": {},
     "output_type": "execute_result"
    }
   ],
   "source": [
    "import os\n",
    "file = os.listdir('./trackdata/origin/')\n",
    "trip_files = []\n",
    "for trip_file in file:\n",
    "    if trip_file.startswith('trackjson'):\n",
    "        trip_files.append(trip_file)\n",
    "# print(trip_files)\n",
    "trip_files.__len__()"
   ]
  },
  {
   "cell_type": "code",
   "execution_count": 21,
   "id": "c00a7374-179f-4c3e-9193-34edf685f936",
   "metadata": {},
   "outputs": [],
   "source": [
    "import json\n",
    "dir = './trackdata/origin/'\n",
    "for file in trip_files:\n",
    "    trackjson = json.loads(open(dir+file, 'r').read())\n",
    "    tmp = []\n",
    "    for track in trackjson:\n",
    "        tmp.append(str(track[1]) + \" \" + str(track[2]) + \" \" + str(track[3]) + \" \" + str(int(track[0])) + \"\\n\")\n",
    "    with open(\"./trackdata/trip_\" +  str(file[9:][:-5]) + \".txt\",\"w\") as tf:\n",
    "        tf.writelines(tmp)"
   ]
  }
 ],
 "metadata": {
  "kernelspec": {
   "display_name": "Python 3",
   "language": "python",
   "name": "python3"
  },
  "language_info": {
   "codemirror_mode": {
    "name": "ipython",
    "version": 3
   },
   "file_extension": ".py",
   "mimetype": "text/x-python",
   "name": "python",
   "nbconvert_exporter": "python",
   "pygments_lexer": "ipython3",
   "version": "3.6.2"
  }
 },
 "nbformat": 4,
 "nbformat_minor": 5
}
