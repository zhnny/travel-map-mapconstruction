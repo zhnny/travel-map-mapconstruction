{
 "cells": [
  {
   "cell_type": "markdown",
   "id": "7413cd15-bd37-4d08-b43c-0f1113c87d8a",
   "metadata": {},
   "source": [
    "```\n",
    "此代码主要将WGS84转换为CGCS2000_3_Degree_GK_Zone_38¶\n",
    "```"
   ]
  },
  {
   "cell_type": "markdown",
   "id": "0e78a2fe-ea79-492f-ad3a-ef47497c37e0",
   "metadata": {},
   "source": [
    "## 1. 测试"
   ]
  },
  {
   "cell_type": "code",
   "execution_count": 1,
   "id": "c753147b-8b80-4417-8cd6-967ae5bfe513",
   "metadata": {},
   "outputs": [],
   "source": [
    "from pyproj import Proj\n",
    "\n",
    "# 首先定义要转换的投影坐标系\n",
    "proj1 = Proj(\"epsg:4525\")  \n",
    "'''\n",
    "epsg编号通过epsg官网或者arcmap中查询获得，此为WGS 84 / UTM zone 1N投影\n",
    "或者p1 = Proj('+proj=utm +zone=1 +datum=WGS84 +units=m +no_defs')\n",
    "'''\n",
    "lon1,lat1 = proj1(112.93, 28.23)  # 将地理坐标转换为投影坐标，地理坐标为WGS84下的坐标\n",
    "lon2,lat2 = proj1(37689453.73997372, 3125440.332648775,inverse=True)  # 将投影坐标转换为地理坐标"
   ]
  },
  {
   "cell_type": "code",
   "execution_count": 2,
   "id": "74a9ff19-bae2-4432-affd-1e7adafcc430",
   "metadata": {},
   "outputs": [
    {
     "data": {
      "text/plain": [
       "(37689453.73997372, 3125440.332648775)"
      ]
     },
     "execution_count": 2,
     "metadata": {},
     "output_type": "execute_result"
    }
   ],
   "source": [
    "lon1,lat1"
   ]
  },
  {
   "cell_type": "code",
   "execution_count": 3,
   "id": "02ae5b28-3d98-4ba0-b2c9-433d9b42cc8d",
   "metadata": {},
   "outputs": [
    {
     "data": {
      "text/plain": [
       "(112.92999999999998, 28.23)"
      ]
     },
     "execution_count": 3,
     "metadata": {},
     "output_type": "execute_result"
    }
   ],
   "source": [
    "lon2,lat2"
   ]
  },
  {
   "cell_type": "markdown",
   "id": "30ce7e08-d33e-46cb-9d07-5ff07d851cc1",
   "metadata": {},
   "source": [
    "## 2. 计算带号"
   ]
  },
  {
   "cell_type": "markdown",
   "id": "d1ca51ba-679f-4e52-a80b-ec2e67435d98",
   "metadata": {},
   "source": [
    "湖南省 长沙市 长沙市\n",
    "\n",
    "经度：112.93\n",
    "纬度：28.23"
   ]
  },
  {
   "cell_type": "markdown",
   "id": "3590ae0f-2dc5-4483-a017-2f79f48e0064",
   "metadata": {},
   "source": [
    "       6度带带号=（经度+6°）/6取整          6度带中央经线=（6度带带号*6）-3\n",
    "\n",
    "       3度带带号=（经度+1.5°）/3取整        3度带中央经线=3度带带号*3"
   ]
  },
  {
   "cell_type": "markdown",
   "id": "da4c68da-b753-43e1-91e6-1be3c7276b4e",
   "metadata": {},
   "source": [
    "长沙三度带的带号为：\n"
   ]
  },
  {
   "cell_type": "code",
   "execution_count": 4,
   "id": "e8c834bb-2a3e-43d6-9b97-1737d6e6df14",
   "metadata": {},
   "outputs": [
    {
     "data": {
      "text/plain": [
       "38"
      ]
     },
     "execution_count": 4,
     "metadata": {},
     "output_type": "execute_result"
    }
   ],
   "source": [
    "int((112.93 + 1.5 ) / 3)"
   ]
  },
  {
   "cell_type": "markdown",
   "id": "55ee6443-3b34-45f1-a628-b9d5a0ac3288",
   "metadata": {},
   "source": [
    "## 2. WGS84转CGCS2000_3_Degree_GK_Zone_38"
   ]
  },
  {
   "cell_type": "code",
   "execution_count": 5,
   "id": "6f33a37c-2bd8-486e-aae2-ae7ff77e093d",
   "metadata": {},
   "outputs": [],
   "source": [
    "changshaProj = Proj(\"epsg:4526\")"
   ]
  },
  {
   "cell_type": "code",
   "execution_count": 6,
   "id": "a83687c2-a17b-470e-b5cc-ff707b170fbf",
   "metadata": {},
   "outputs": [
    {
     "data": {
      "text/plain": [
       "10233"
      ]
     },
     "execution_count": 6,
     "metadata": {},
     "output_type": "execute_result"
    }
   ],
   "source": [
    "import os\n",
    "file = os.listdir('./jumpfilter')\n",
    "trip_files = []\n",
    "for trip_file in file:\n",
    "    if trip_file.startswith('trip_'):\n",
    "        trip_files.append(trip_file)\n",
    "trip_files.__len__()"
   ]
  },
  {
   "cell_type": "code",
   "execution_count": 7,
   "id": "2eeda558-4451-4f5d-985a-1f50df49f213",
   "metadata": {
    "tags": []
   },
   "outputs": [],
   "source": [
    "dir = './jumpfilter/'\n",
    "for trip_file in trip_files:\n",
    "    with open(dir+trip_file) as tf:\n",
    "        # print(trip_file)\n",
    "        tmp = []\n",
    "        for trip_line in tf:\n",
    "            point = trip_line.split(' ')\n",
    "            lon,lat = changshaProj(float(point[1]),float(point[0]))\n",
    "            tmp.append(str(lon)+' '+str(lat)+' '+str(point[2])+' '+str(point[3]))\n",
    "        # print(tmp)\n",
    "        if(len(tmp) > 1):\n",
    "            with open('projection/'+trip_file,'w') as cf:\n",
    "                cf.writelines(tmp)\n",
    "            with open('projection/all.csv','a') as af:\n",
    "                af.writelines(tmp)\n",
    "        # print(trip_file)"
   ]
  }
 ],
 "metadata": {
  "kernelspec": {
   "display_name": "Python 3",
   "language": "python",
   "name": "python3"
  },
  "language_info": {
   "codemirror_mode": {
    "name": "ipython",
    "version": 3
   },
   "file_extension": ".py",
   "mimetype": "text/x-python",
   "name": "python",
   "nbconvert_exporter": "python",
   "pygments_lexer": "ipython3",
   "version": "3.6.2"
  }
 },
 "nbformat": 4,
 "nbformat_minor": 5
}
